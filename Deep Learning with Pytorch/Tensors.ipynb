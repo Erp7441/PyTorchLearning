{
 "cells": [
  {
   "cell_type": "code",
   "id": "initial_id",
   "metadata": {
    "collapsed": true,
    "ExecuteTime": {
     "end_time": "2024-08-24T17:55:49.238441Z",
     "start_time": "2024-08-24T17:55:48.199443Z"
    }
   },
   "source": "import torch",
   "outputs": [],
   "execution_count": 1
  },
  {
   "metadata": {},
   "cell_type": "markdown",
   "source": [
    "# TENSOR\n",
    "* Multi-dimentional matrix with elements of single data type \n",
    "* Default data type float32"
   ],
   "id": "734368701e06f291"
  },
  {
   "metadata": {},
   "cell_type": "markdown",
   "source": "# List",
   "id": "ce80e6f7aaf7e563"
  },
  {
   "metadata": {
    "ExecuteTime": {
     "end_time": "2024-08-24T17:55:49.243465Z",
     "start_time": "2024-08-24T17:55:49.239447Z"
    }
   },
   "cell_type": "code",
   "source": [
    "x = [1,2,3, [4,5,6]]\n",
    "x"
   ],
   "id": "c711e4f56f2502a1",
   "outputs": [
    {
     "data": {
      "text/plain": [
       "[1, 2, 3, [4, 5, 6]]"
      ]
     },
     "execution_count": 2,
     "metadata": {},
     "output_type": "execute_result"
    }
   ],
   "execution_count": 2
  },
  {
   "metadata": {},
   "cell_type": "markdown",
   "source": "# Numpy array",
   "id": "f50216e5ee5ba04c"
  },
  {
   "metadata": {
    "ExecuteTime": {
     "end_time": "2024-08-24T17:55:49.247132Z",
     "start_time": "2024-08-24T17:55:49.243465Z"
    }
   },
   "cell_type": "code",
   "source": [
    "import numpy as np\n",
    "\n",
    "np1 = np.random.rand(3,4)\n",
    "np1.dtype"
   ],
   "id": "5becaecf6b24eccc",
   "outputs": [
    {
     "data": {
      "text/plain": [
       "dtype('float64')"
      ]
     },
     "execution_count": 3,
     "metadata": {},
     "output_type": "execute_result"
    }
   ],
   "execution_count": 3
  },
  {
   "metadata": {},
   "cell_type": "markdown",
   "source": "# Tensor",
   "id": "d4ae0389e4188dc6"
  },
  {
   "metadata": {
    "ExecuteTime": {
     "end_time": "2024-08-24T17:55:49.252309Z",
     "start_time": "2024-08-24T17:55:49.247132Z"
    }
   },
   "cell_type": "code",
   "source": [
    "tensor_2d = torch.randn(3,4)\n",
    "tensor_2d\n",
    "tensor_2d.dtype"
   ],
   "id": "3361c8d8646cb34a",
   "outputs": [
    {
     "data": {
      "text/plain": [
       "torch.float32"
      ]
     },
     "execution_count": 4,
     "metadata": {},
     "output_type": "execute_result"
    }
   ],
   "execution_count": 4
  },
  {
   "metadata": {
    "ExecuteTime": {
     "end_time": "2024-08-24T17:55:49.258150Z",
     "start_time": "2024-08-24T17:55:49.253314Z"
    }
   },
   "cell_type": "code",
   "source": [
    "tensor_3d = torch.randn(3,4,5)\n",
    "tensor_3d"
   ],
   "id": "4ce41ee555bd9dd2",
   "outputs": [
    {
     "data": {
      "text/plain": [
       "tensor([[[ 2.2475, -0.0219,  0.0731, -1.1199,  0.2999],\n",
       "         [-0.9120,  0.4408,  1.2312,  1.2717, -0.4889],\n",
       "         [ 0.5211, -0.9870, -0.1438,  0.5587,  1.4799],\n",
       "         [ 0.3198,  0.1957, -1.5325,  0.9343,  1.4052]],\n",
       "\n",
       "        [[-0.9129, -0.3203, -0.5311,  0.8088, -0.9886],\n",
       "         [-1.4191, -1.0797,  0.4959,  0.3127,  0.4009],\n",
       "         [ 0.2235, -0.5536, -1.0204,  2.5255,  1.3619],\n",
       "         [-0.5870, -2.4673, -0.1339, -0.3227,  0.5946]],\n",
       "\n",
       "        [[ 1.6459, -2.4507, -0.7600,  0.1365,  1.8795],\n",
       "         [ 1.2085,  0.4182, -0.7404, -2.4403, -0.6384],\n",
       "         [-0.2809,  0.2860,  0.5554, -0.0694, -0.7199],\n",
       "         [ 1.6736,  0.1851, -0.4308, -0.4654,  0.2693]]])"
      ]
     },
     "execution_count": 5,
     "metadata": {},
     "output_type": "execute_result"
    }
   ],
   "execution_count": 5
  },
  {
   "metadata": {
    "ExecuteTime": {
     "end_time": "2024-08-24T17:55:49.264223Z",
     "start_time": "2024-08-24T17:55:49.258664Z"
    }
   },
   "cell_type": "code",
   "source": [
    "m_tensor = torch.tensor(np1)\n",
    "m_tensor"
   ],
   "id": "dabdacb4d1f015a4",
   "outputs": [
    {
     "data": {
      "text/plain": [
       "tensor([[0.3472, 0.1817, 0.3712, 0.4420],\n",
       "        [0.1680, 0.3126, 0.0894, 0.2785],\n",
       "        [0.2449, 0.8875, 0.1905, 0.7945]], dtype=torch.float64)"
      ]
     },
     "execution_count": 6,
     "metadata": {},
     "output_type": "execute_result"
    }
   ],
   "execution_count": 6
  },
  {
   "metadata": {},
   "cell_type": "markdown",
   "source": "# TENSOR OPERATIONS",
   "id": "1e22ec3b66896b15"
  },
  {
   "metadata": {
    "ExecuteTime": {
     "end_time": "2024-08-24T17:55:49.267254Z",
     "start_time": "2024-08-24T17:55:49.264223Z"
    }
   },
   "cell_type": "code",
   "source": "import torch",
   "id": "ec86c565bf23e71e",
   "outputs": [],
   "execution_count": 7
  },
  {
   "metadata": {
    "ExecuteTime": {
     "end_time": "2024-08-24T17:55:49.273767Z",
     "start_time": "2024-08-24T17:55:49.267254Z"
    }
   },
   "cell_type": "code",
   "source": [
    "my_torch = torch.arange(10)\n",
    "my_torch"
   ],
   "id": "2b99b062260147be",
   "outputs": [
    {
     "data": {
      "text/plain": [
       "tensor([0, 1, 2, 3, 4, 5, 6, 7, 8, 9])"
      ]
     },
     "execution_count": 8,
     "metadata": {},
     "output_type": "execute_result"
    }
   ],
   "execution_count": 8
  },
  {
   "metadata": {
    "ExecuteTime": {
     "end_time": "2024-08-24T17:55:49.277793Z",
     "start_time": "2024-08-24T17:55:49.273767Z"
    }
   },
   "cell_type": "code",
   "source": [
    "# Reshape and View\n",
    "my_torch = my_torch.reshape(2,5)\n",
    "my_torch"
   ],
   "id": "a9693d20308abb68",
   "outputs": [
    {
     "data": {
      "text/plain": [
       "tensor([[0, 1, 2, 3, 4],\n",
       "        [5, 6, 7, 8, 9]])"
      ]
     },
     "execution_count": 9,
     "metadata": {},
     "output_type": "execute_result"
    }
   ],
   "execution_count": 9
  },
  {
   "metadata": {
    "ExecuteTime": {
     "end_time": "2024-08-24T17:55:49.281559Z",
     "start_time": "2024-08-24T17:55:49.277793Z"
    }
   },
   "cell_type": "code",
   "source": [
    "# Reshape if we do not know the number of items\n",
    "my_torch2 = torch.arange(10)\n",
    "my_torch2 = my_torch2.reshape(-1,2)\n",
    "my_torch2"
   ],
   "id": "a79cf8a52e1fa231",
   "outputs": [
    {
     "data": {
      "text/plain": [
       "tensor([[0, 1],\n",
       "        [2, 3],\n",
       "        [4, 5],\n",
       "        [6, 7],\n",
       "        [8, 9]])"
      ]
     },
     "execution_count": 10,
     "metadata": {},
     "output_type": "execute_result"
    }
   ],
   "execution_count": 10
  },
  {
   "metadata": {
    "ExecuteTime": {
     "end_time": "2024-08-24T17:55:49.285079Z",
     "start_time": "2024-08-24T17:55:49.281559Z"
    }
   },
   "cell_type": "code",
   "source": [
    "my_torch3 = torch.arange(10)\n",
    "my_torch3"
   ],
   "id": "3883eaeb121b878f",
   "outputs": [
    {
     "data": {
      "text/plain": [
       "tensor([0, 1, 2, 3, 4, 5, 6, 7, 8, 9])"
      ]
     },
     "execution_count": 11,
     "metadata": {},
     "output_type": "execute_result"
    }
   ],
   "execution_count": 11
  },
  {
   "metadata": {
    "ExecuteTime": {
     "end_time": "2024-08-24T17:55:49.288108Z",
     "start_time": "2024-08-24T17:55:49.285079Z"
    }
   },
   "cell_type": "code",
   "source": [
    "my_torch4 = my_torch3.view(2,5)\n",
    "my_torch4"
   ],
   "id": "89af484eeaa3f61c",
   "outputs": [
    {
     "data": {
      "text/plain": [
       "tensor([[0, 1, 2, 3, 4],\n",
       "        [5, 6, 7, 8, 9]])"
      ]
     },
     "execution_count": 12,
     "metadata": {},
     "output_type": "execute_result"
    }
   ],
   "execution_count": 12
  },
  {
   "metadata": {
    "ExecuteTime": {
     "end_time": "2024-08-24T17:55:49.290332Z",
     "start_time": "2024-08-24T17:55:49.288108Z"
    }
   },
   "cell_type": "code",
   "source": [
    "# Diffs between shape and view?\n",
    "# TODO:: Google"
   ],
   "id": "e107ac1144e0bcc4",
   "outputs": [],
   "execution_count": 13
  },
  {
   "metadata": {
    "ExecuteTime": {
     "end_time": "2024-08-24T17:55:49.294431Z",
     "start_time": "2024-08-24T17:55:49.291338Z"
    }
   },
   "cell_type": "code",
   "source": [
    "# When changing an item within parent tensor the child changes as well \n",
    "my_torch5 = torch.arange(10)\n",
    "my_torch5"
   ],
   "id": "27f2fc94ef978232",
   "outputs": [
    {
     "data": {
      "text/plain": [
       "tensor([0, 1, 2, 3, 4, 5, 6, 7, 8, 9])"
      ]
     },
     "execution_count": 14,
     "metadata": {},
     "output_type": "execute_result"
    }
   ],
   "execution_count": 14
  },
  {
   "metadata": {
    "ExecuteTime": {
     "end_time": "2024-08-24T17:55:49.298047Z",
     "start_time": "2024-08-24T17:55:49.295438Z"
    }
   },
   "cell_type": "code",
   "source": [
    "my_torch6 = my_torch5.reshape(2,5)\n",
    "my_torch6"
   ],
   "id": "eb1c9e3ce5143e72",
   "outputs": [
    {
     "data": {
      "text/plain": [
       "tensor([[0, 1, 2, 3, 4],\n",
       "        [5, 6, 7, 8, 9]])"
      ]
     },
     "execution_count": 15,
     "metadata": {},
     "output_type": "execute_result"
    }
   ],
   "execution_count": 15
  },
  {
   "metadata": {
    "ExecuteTime": {
     "end_time": "2024-08-24T17:55:49.301545Z",
     "start_time": "2024-08-24T17:55:49.298047Z"
    }
   },
   "cell_type": "code",
   "source": [
    "my_torch5[1] = 4141\n",
    "my_torch5"
   ],
   "id": "1dcfa1fd21a7b925",
   "outputs": [
    {
     "data": {
      "text/plain": [
       "tensor([   0, 4141,    2,    3,    4,    5,    6,    7,    8,    9])"
      ]
     },
     "execution_count": 16,
     "metadata": {},
     "output_type": "execute_result"
    }
   ],
   "execution_count": 16
  },
  {
   "metadata": {
    "ExecuteTime": {
     "end_time": "2024-08-24T17:55:49.304765Z",
     "start_time": "2024-08-24T17:55:49.301545Z"
    }
   },
   "cell_type": "code",
   "source": "my_torch6",
   "id": "468d4c99dcb7002a",
   "outputs": [
    {
     "data": {
      "text/plain": [
       "tensor([[   0, 4141,    2,    3,    4],\n",
       "        [   5,    6,    7,    8,    9]])"
      ]
     },
     "execution_count": 17,
     "metadata": {},
     "output_type": "execute_result"
    }
   ],
   "execution_count": 17
  },
  {
   "metadata": {
    "ExecuteTime": {
     "end_time": "2024-08-24T17:55:49.308385Z",
     "start_time": "2024-08-24T17:55:49.304765Z"
    }
   },
   "cell_type": "code",
   "source": [
    "# Slices - section of tensor\n",
    "my_torch7 = torch.arange(10)\n",
    "my_torch7"
   ],
   "id": "5af0690ddbc3593f",
   "outputs": [
    {
     "data": {
      "text/plain": [
       "tensor([0, 1, 2, 3, 4, 5, 6, 7, 8, 9])"
      ]
     },
     "execution_count": 18,
     "metadata": {},
     "output_type": "execute_result"
    }
   ],
   "execution_count": 18
  },
  {
   "metadata": {
    "ExecuteTime": {
     "end_time": "2024-08-24T17:55:49.311913Z",
     "start_time": "2024-08-24T17:55:49.308385Z"
    }
   },
   "cell_type": "code",
   "source": [
    "# Specific item\n",
    "my_torch7[7]"
   ],
   "id": "db9df63b4fecc4f5",
   "outputs": [
    {
     "data": {
      "text/plain": [
       "tensor(7)"
      ]
     },
     "execution_count": 19,
     "metadata": {},
     "output_type": "execute_result"
    }
   ],
   "execution_count": 19
  },
  {
   "metadata": {
    "ExecuteTime": {
     "end_time": "2024-08-24T17:55:49.315594Z",
     "start_time": "2024-08-24T17:55:49.312427Z"
    }
   },
   "cell_type": "code",
   "source": [
    "# Slice\n",
    "my_torch8 = my_torch7.reshape(5,2)\n",
    "my_torch8"
   ],
   "id": "9d9760bf5e5a2309",
   "outputs": [
    {
     "data": {
      "text/plain": [
       "tensor([[0, 1],\n",
       "        [2, 3],\n",
       "        [4, 5],\n",
       "        [6, 7],\n",
       "        [8, 9]])"
      ]
     },
     "execution_count": 20,
     "metadata": {},
     "output_type": "execute_result"
    }
   ],
   "execution_count": 20
  },
  {
   "metadata": {
    "ExecuteTime": {
     "end_time": "2024-08-24T17:55:49.321649Z",
     "start_time": "2024-08-24T17:55:49.315594Z"
    }
   },
   "cell_type": "code",
   "source": "my_torch8[:,1]",
   "id": "b4e80efe0ac0c278",
   "outputs": [
    {
     "data": {
      "text/plain": [
       "tensor([1, 3, 5, 7, 9])"
      ]
     },
     "execution_count": 21,
     "metadata": {},
     "output_type": "execute_result"
    }
   ],
   "execution_count": 21
  },
  {
   "metadata": {
    "ExecuteTime": {
     "end_time": "2024-08-24T17:55:49.325030Z",
     "start_time": "2024-08-24T17:55:49.321649Z"
    }
   },
   "cell_type": "code",
   "source": [
    "# Return column\n",
    "my_torch8[:,1:]"
   ],
   "id": "e5858eb4db1301ed",
   "outputs": [
    {
     "data": {
      "text/plain": [
       "tensor([[1],\n",
       "        [3],\n",
       "        [5],\n",
       "        [7],\n",
       "        [9]])"
      ]
     },
     "execution_count": 22,
     "metadata": {},
     "output_type": "execute_result"
    }
   ],
   "execution_count": 22
  },
  {
   "metadata": {},
   "cell_type": "markdown",
   "source": "# TENSOR MATH OPERATIONS",
   "id": "b983aa7306a67ed7"
  },
  {
   "metadata": {
    "ExecuteTime": {
     "end_time": "2024-08-24T17:55:49.327893Z",
     "start_time": "2024-08-24T17:55:49.325368Z"
    }
   },
   "cell_type": "code",
   "source": [
    "import torch\n",
    "import numpy as np"
   ],
   "id": "be7676dd325e9141",
   "outputs": [],
   "execution_count": 23
  },
  {
   "metadata": {
    "ExecuteTime": {
     "end_time": "2024-08-24T17:55:49.331059Z",
     "start_time": "2024-08-24T17:55:49.328362Z"
    }
   },
   "cell_type": "code",
   "source": [
    "t_a = torch.tensor([1,2,3,4])\n",
    "t_b = torch.tensor([5,6,7,8])"
   ],
   "id": "8fed6d39896337be",
   "outputs": [],
   "execution_count": 24
  },
  {
   "metadata": {
    "ExecuteTime": {
     "end_time": "2024-08-24T17:55:49.334648Z",
     "start_time": "2024-08-24T17:55:49.331377Z"
    }
   },
   "cell_type": "code",
   "source": [
    "# Addition\n",
    "t_a+t_b  # Shorthand\n",
    "# torch.add(t_a,t_b)  # Longhand"
   ],
   "id": "fb1a51144e9d1c70",
   "outputs": [
    {
     "data": {
      "text/plain": [
       "tensor([ 6,  8, 10, 12])"
      ]
     },
     "execution_count": 25,
     "metadata": {},
     "output_type": "execute_result"
    }
   ],
   "execution_count": 25
  },
  {
   "metadata": {
    "ExecuteTime": {
     "end_time": "2024-08-24T17:55:49.338658Z",
     "start_time": "2024-08-24T17:55:49.334648Z"
    }
   },
   "cell_type": "code",
   "source": [
    "# Subtract\n",
    "t_b - t_a # Shorthand\n",
    "# torch.sub(t_b, t_a)  # Longhand"
   ],
   "id": "3453c7aec3dc93c0",
   "outputs": [
    {
     "data": {
      "text/plain": [
       "tensor([4, 4, 4, 4])"
      ]
     },
     "execution_count": 26,
     "metadata": {},
     "output_type": "execute_result"
    }
   ],
   "execution_count": 26
  },
  {
   "metadata": {
    "ExecuteTime": {
     "end_time": "2024-08-24T17:55:49.342100Z",
     "start_time": "2024-08-24T17:55:49.338658Z"
    }
   },
   "cell_type": "code",
   "source": [
    "# Multiplication\n",
    "t_a*t_b  # Shorthand\n",
    "# torch.mul(t_a,t_b)  # Longhand"
   ],
   "id": "17e277804b414cea",
   "outputs": [
    {
     "data": {
      "text/plain": [
       "tensor([ 5, 12, 21, 32])"
      ]
     },
     "execution_count": 27,
     "metadata": {},
     "output_type": "execute_result"
    }
   ],
   "execution_count": 27
  },
  {
   "metadata": {
    "ExecuteTime": {
     "end_time": "2024-08-24T17:55:49.346131Z",
     "start_time": "2024-08-24T17:55:49.342100Z"
    }
   },
   "cell_type": "code",
   "source": [
    "# Division\n",
    "t_b / t_a # Shorthand\n",
    "# torch.div(t_b,t_a)  # Longhand"
   ],
   "id": "48743eca552aeee7",
   "outputs": [
    {
     "data": {
      "text/plain": [
       "tensor([5.0000, 3.0000, 2.3333, 2.0000])"
      ]
     },
     "execution_count": 28,
     "metadata": {},
     "output_type": "execute_result"
    }
   ],
   "execution_count": 28
  },
  {
   "metadata": {
    "ExecuteTime": {
     "end_time": "2024-08-24T17:55:49.350150Z",
     "start_time": "2024-08-24T17:55:49.346131Z"
    }
   },
   "cell_type": "code",
   "source": [
    "# Modulus\n",
    "t_b % t_a  # Shorthand\n",
    "# torch.remainder(t_b,t_a)  # Longhand"
   ],
   "id": "f32c73a2bbfb3503",
   "outputs": [
    {
     "data": {
      "text/plain": [
       "tensor([0, 0, 1, 0])"
      ]
     },
     "execution_count": 29,
     "metadata": {},
     "output_type": "execute_result"
    }
   ],
   "execution_count": 29
  },
  {
   "metadata": {
    "ExecuteTime": {
     "end_time": "2024-08-24T17:55:49.354507Z",
     "start_time": "2024-08-24T17:55:49.350150Z"
    }
   },
   "cell_type": "code",
   "source": [
    "# Power\n",
    "t_a ** t_b  # Shorthand\n",
    "# torch.pow(t_a,t_b)  # Longhand"
   ],
   "id": "711aae756c53a3ae",
   "outputs": [
    {
     "data": {
      "text/plain": [
       "tensor([    1,    64,  2187, 65536])"
      ]
     },
     "execution_count": 30,
     "metadata": {},
     "output_type": "execute_result"
    }
   ],
   "execution_count": 30
  },
  {
   "metadata": {
    "ExecuteTime": {
     "end_time": "2024-08-24T17:55:49.358124Z",
     "start_time": "2024-08-24T17:55:49.355014Z"
    }
   },
   "cell_type": "code",
   "source": [
    "# Another longhand format\n",
    "t_a.add(t_b)"
   ],
   "id": "8ed6f0d1d8c7a4a7",
   "outputs": [
    {
     "data": {
      "text/plain": [
       "tensor([ 6,  8, 10, 12])"
      ]
     },
     "execution_count": 31,
     "metadata": {},
     "output_type": "execute_result"
    }
   ],
   "execution_count": 31
  },
  {
   "metadata": {
    "ExecuteTime": {
     "end_time": "2024-08-24T17:55:49.362148Z",
     "start_time": "2024-08-24T17:55:49.358124Z"
    }
   },
   "cell_type": "code",
   "source": [
    "# Reassignment\n",
    "t_a + t_b"
   ],
   "id": "4272780f2844f8a0",
   "outputs": [
    {
     "data": {
      "text/plain": [
       "tensor([ 6,  8, 10, 12])"
      ]
     },
     "execution_count": 32,
     "metadata": {},
     "output_type": "execute_result"
    }
   ],
   "execution_count": 32
  },
  {
   "metadata": {
    "ExecuteTime": {
     "end_time": "2024-08-24T17:55:49.365778Z",
     "start_time": "2024-08-24T17:55:49.362148Z"
    }
   },
   "cell_type": "code",
   "source": "t_a",
   "id": "b8a2176494e09c60",
   "outputs": [
    {
     "data": {
      "text/plain": [
       "tensor([1, 2, 3, 4])"
      ]
     },
     "execution_count": 33,
     "metadata": {},
     "output_type": "execute_result"
    }
   ],
   "execution_count": 33
  },
  {
   "metadata": {
    "ExecuteTime": {
     "end_time": "2024-08-24T17:55:49.369310Z",
     "start_time": "2024-08-24T17:55:49.365778Z"
    }
   },
   "cell_type": "code",
   "source": [
    "t_a = t_a + t_b  # Long format reassignment\n",
    "t_a"
   ],
   "id": "2815ea58f7e7bc87",
   "outputs": [
    {
     "data": {
      "text/plain": [
       "tensor([ 6,  8, 10, 12])"
      ]
     },
     "execution_count": 34,
     "metadata": {},
     "output_type": "execute_result"
    }
   ],
   "execution_count": 34
  },
  {
   "metadata": {
    "ExecuteTime": {
     "end_time": "2024-08-24T17:55:49.373888Z",
     "start_time": "2024-08-24T17:55:49.369823Z"
    }
   },
   "cell_type": "code",
   "source": [
    "t_a.add_(t_b)  # Short format reassignment\n",
    "t_a"
   ],
   "id": "2b0bfc8fa6c1b43f",
   "outputs": [
    {
     "data": {
      "text/plain": [
       "tensor([11, 14, 17, 20])"
      ]
     },
     "execution_count": 35,
     "metadata": {},
     "output_type": "execute_result"
    }
   ],
   "execution_count": 35
  }
 ],
 "metadata": {
  "kernelspec": {
   "display_name": "Python 3",
   "language": "python",
   "name": "python3"
  },
  "language_info": {
   "codemirror_mode": {
    "name": "ipython",
    "version": 2
   },
   "file_extension": ".py",
   "mimetype": "text/x-python",
   "name": "python",
   "nbconvert_exporter": "python",
   "pygments_lexer": "ipython2",
   "version": "2.7.6"
  }
 },
 "nbformat": 4,
 "nbformat_minor": 5
}
