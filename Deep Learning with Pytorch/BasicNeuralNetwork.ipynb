{
 "cells": [
  {
   "cell_type": "code",
   "id": "initial_id",
   "metadata": {
    "collapsed": true,
    "ExecuteTime": {
     "end_time": "2024-08-24T17:55:25.144202Z",
     "start_time": "2024-08-24T17:55:22.727623Z"
    }
   },
   "source": [
    "import torch\n",
    "import torch.nn as nn\n",
    "import torch.nn.functional as F"
   ],
   "outputs": [],
   "execution_count": 1
  },
  {
   "metadata": {
    "ExecuteTime": {
     "end_time": "2024-08-24T17:55:25.148480Z",
     "start_time": "2024-08-24T17:55:25.144202Z"
    }
   },
   "cell_type": "code",
   "source": [
    "# Create model class that inherits nn.module\n",
    "class Model(nn.Module):\n",
    "    # Input layer (4 features of flower): sepal length;sepal width;petal length; petal width \n",
    "    #  --> Hidden layer1 (number of neurons)\n",
    "    #  --> H2 (n) --> output (3 classes of iris flower)\n",
    "    # in_features are the 4 features of flower\n",
    "    # h1 and h2 integers are number of neurons within the hidden layer\n",
    "    # out_features are the classes to which we may classify the dataset\n",
    "    def __init__(self, in_features=4, h1=8, h2=9, out_features=3):\n",
    "        super(Model, self).__init__()\n",
    "        # Setting up layers (this creates a fully connected graph)\n",
    "        self.fc1 = nn.Linear(in_features, h1)  # Pass features into first layer\n",
    "        self.fc2 = nn.Linear(h1, h2)  # Pass features into second layer\n",
    "        self.out = nn.Linear(h2, out_features) # Pass features into output layer\n",
    "        \n",
    "    def forward(self, x):\n",
    "        # Start with layer 1\n",
    "        x = F.relu(self.fc1(x))  # Rectified linear unit - Do something and if the output is less than 0 return 0 otherwise return the value\n",
    "        # Continue with layer 2\n",
    "        x = F.relu(self.fc2(x))\n",
    "        # Continue to output layer\n",
    "        x = self.out(x)\n",
    "        return x"
   ],
   "id": "56e9f11713809daa",
   "outputs": [],
   "execution_count": 2
  },
  {
   "metadata": {
    "ExecuteTime": {
     "end_time": "2024-08-24T17:55:25.172659Z",
     "start_time": "2024-08-24T17:55:25.148480Z"
    }
   },
   "cell_type": "code",
   "source": [
    "# Manual seed for randomization\n",
    "torch.manual_seed(41)\n",
    "model = Model()"
   ],
   "id": "a435db3a8538dad9",
   "outputs": [],
   "execution_count": 3
  },
  {
   "metadata": {},
   "cell_type": "markdown",
   "source": "# Load Data and Train Neural Network Model",
   "id": "ff5e206fe4913e57"
  },
  {
   "metadata": {
    "ExecuteTime": {
     "end_time": "2024-08-24T17:55:26.307829Z",
     "start_time": "2024-08-24T17:55:25.173192Z"
    }
   },
   "cell_type": "code",
   "source": [
    "import pandas as pd\n",
    "import matplotlib.pyplot as plt\n",
    "%matplotlib inline"
   ],
   "id": "78bf3f6af5fd5982",
   "outputs": [],
   "execution_count": 4
  },
  {
   "metadata": {
    "ExecuteTime": {
     "end_time": "2024-08-24T17:55:26.501454Z",
     "start_time": "2024-08-24T17:55:26.308833Z"
    }
   },
   "cell_type": "code",
   "source": [
    "url = 'https://gist.githubusercontent.com/netj/8836201/raw/6f9306ad21398ea43cba4f7d537619d0e07d5ae3/iris.csv'\n",
    "my_df = pd.read_csv(url)  # Dataframe"
   ],
   "id": "5743c4cb52e5ea35",
   "outputs": [],
   "execution_count": 5
  },
  {
   "metadata": {
    "ExecuteTime": {
     "end_time": "2024-08-24T17:55:26.509025Z",
     "start_time": "2024-08-24T17:55:26.501454Z"
    }
   },
   "cell_type": "code",
   "source": "my_df.head()",
   "id": "b3a1ecd11f8e70e1",
   "outputs": [
    {
     "data": {
      "text/plain": [
       "   sepal.length  sepal.width  petal.length  petal.width variety\n",
       "0           5.1          3.5           1.4          0.2  Setosa\n",
       "1           4.9          3.0           1.4          0.2  Setosa\n",
       "2           4.7          3.2           1.3          0.2  Setosa\n",
       "3           4.6          3.1           1.5          0.2  Setosa\n",
       "4           5.0          3.6           1.4          0.2  Setosa"
      ],
      "text/html": [
       "<div>\n",
       "<style scoped>\n",
       "    .dataframe tbody tr th:only-of-type {\n",
       "        vertical-align: middle;\n",
       "    }\n",
       "\n",
       "    .dataframe tbody tr th {\n",
       "        vertical-align: top;\n",
       "    }\n",
       "\n",
       "    .dataframe thead th {\n",
       "        text-align: right;\n",
       "    }\n",
       "</style>\n",
       "<table border=\"1\" class=\"dataframe\">\n",
       "  <thead>\n",
       "    <tr style=\"text-align: right;\">\n",
       "      <th></th>\n",
       "      <th>sepal.length</th>\n",
       "      <th>sepal.width</th>\n",
       "      <th>petal.length</th>\n",
       "      <th>petal.width</th>\n",
       "      <th>variety</th>\n",
       "    </tr>\n",
       "  </thead>\n",
       "  <tbody>\n",
       "    <tr>\n",
       "      <th>0</th>\n",
       "      <td>5.1</td>\n",
       "      <td>3.5</td>\n",
       "      <td>1.4</td>\n",
       "      <td>0.2</td>\n",
       "      <td>Setosa</td>\n",
       "    </tr>\n",
       "    <tr>\n",
       "      <th>1</th>\n",
       "      <td>4.9</td>\n",
       "      <td>3.0</td>\n",
       "      <td>1.4</td>\n",
       "      <td>0.2</td>\n",
       "      <td>Setosa</td>\n",
       "    </tr>\n",
       "    <tr>\n",
       "      <th>2</th>\n",
       "      <td>4.7</td>\n",
       "      <td>3.2</td>\n",
       "      <td>1.3</td>\n",
       "      <td>0.2</td>\n",
       "      <td>Setosa</td>\n",
       "    </tr>\n",
       "    <tr>\n",
       "      <th>3</th>\n",
       "      <td>4.6</td>\n",
       "      <td>3.1</td>\n",
       "      <td>1.5</td>\n",
       "      <td>0.2</td>\n",
       "      <td>Setosa</td>\n",
       "    </tr>\n",
       "    <tr>\n",
       "      <th>4</th>\n",
       "      <td>5.0</td>\n",
       "      <td>3.6</td>\n",
       "      <td>1.4</td>\n",
       "      <td>0.2</td>\n",
       "      <td>Setosa</td>\n",
       "    </tr>\n",
       "  </tbody>\n",
       "</table>\n",
       "</div>"
      ]
     },
     "execution_count": 6,
     "metadata": {},
     "output_type": "execute_result"
    }
   ],
   "execution_count": 6
  },
  {
   "metadata": {
    "ExecuteTime": {
     "end_time": "2024-08-24T17:55:26.512711Z",
     "start_time": "2024-08-24T17:55:26.509549Z"
    }
   },
   "cell_type": "code",
   "source": [
    "# Change last column to ints\n",
    "my_df['variety'] = my_df['variety'].replace('Setosa', 0.0)\n",
    "my_df['variety'] = my_df['variety'].replace('Versicolor', 1.0)\n",
    "my_df['variety'] = my_df['variety'].replace('Virginica', 2.0)"
   ],
   "id": "b8af415f0e704ce9",
   "outputs": [
    {
     "name": "stderr",
     "output_type": "stream",
     "text": [
      "C:\\Users\\Martin\\AppData\\Local\\Temp\\ipykernel_301284\\316928088.py:4: FutureWarning: Downcasting behavior in `replace` is deprecated and will be removed in a future version. To retain the old behavior, explicitly call `result.infer_objects(copy=False)`. To opt-in to the future behavior, set `pd.set_option('future.no_silent_downcasting', True)`\n",
      "  my_df['variety'] = my_df['variety'].replace('Virginica', 2.0)\n"
     ]
    }
   ],
   "execution_count": 7
  },
  {
   "metadata": {
    "ExecuteTime": {
     "end_time": "2024-08-24T17:55:26.519796Z",
     "start_time": "2024-08-24T17:55:26.512711Z"
    }
   },
   "cell_type": "code",
   "source": "my_df",
   "id": "ba6a9c46bbe64509",
   "outputs": [
    {
     "data": {
      "text/plain": [
       "     sepal.length  sepal.width  petal.length  petal.width  variety\n",
       "0             5.1          3.5           1.4          0.2      0.0\n",
       "1             4.9          3.0           1.4          0.2      0.0\n",
       "2             4.7          3.2           1.3          0.2      0.0\n",
       "3             4.6          3.1           1.5          0.2      0.0\n",
       "4             5.0          3.6           1.4          0.2      0.0\n",
       "..            ...          ...           ...          ...      ...\n",
       "145           6.7          3.0           5.2          2.3      2.0\n",
       "146           6.3          2.5           5.0          1.9      2.0\n",
       "147           6.5          3.0           5.2          2.0      2.0\n",
       "148           6.2          3.4           5.4          2.3      2.0\n",
       "149           5.9          3.0           5.1          1.8      2.0\n",
       "\n",
       "[150 rows x 5 columns]"
      ],
      "text/html": [
       "<div>\n",
       "<style scoped>\n",
       "    .dataframe tbody tr th:only-of-type {\n",
       "        vertical-align: middle;\n",
       "    }\n",
       "\n",
       "    .dataframe tbody tr th {\n",
       "        vertical-align: top;\n",
       "    }\n",
       "\n",
       "    .dataframe thead th {\n",
       "        text-align: right;\n",
       "    }\n",
       "</style>\n",
       "<table border=\"1\" class=\"dataframe\">\n",
       "  <thead>\n",
       "    <tr style=\"text-align: right;\">\n",
       "      <th></th>\n",
       "      <th>sepal.length</th>\n",
       "      <th>sepal.width</th>\n",
       "      <th>petal.length</th>\n",
       "      <th>petal.width</th>\n",
       "      <th>variety</th>\n",
       "    </tr>\n",
       "  </thead>\n",
       "  <tbody>\n",
       "    <tr>\n",
       "      <th>0</th>\n",
       "      <td>5.1</td>\n",
       "      <td>3.5</td>\n",
       "      <td>1.4</td>\n",
       "      <td>0.2</td>\n",
       "      <td>0.0</td>\n",
       "    </tr>\n",
       "    <tr>\n",
       "      <th>1</th>\n",
       "      <td>4.9</td>\n",
       "      <td>3.0</td>\n",
       "      <td>1.4</td>\n",
       "      <td>0.2</td>\n",
       "      <td>0.0</td>\n",
       "    </tr>\n",
       "    <tr>\n",
       "      <th>2</th>\n",
       "      <td>4.7</td>\n",
       "      <td>3.2</td>\n",
       "      <td>1.3</td>\n",
       "      <td>0.2</td>\n",
       "      <td>0.0</td>\n",
       "    </tr>\n",
       "    <tr>\n",
       "      <th>3</th>\n",
       "      <td>4.6</td>\n",
       "      <td>3.1</td>\n",
       "      <td>1.5</td>\n",
       "      <td>0.2</td>\n",
       "      <td>0.0</td>\n",
       "    </tr>\n",
       "    <tr>\n",
       "      <th>4</th>\n",
       "      <td>5.0</td>\n",
       "      <td>3.6</td>\n",
       "      <td>1.4</td>\n",
       "      <td>0.2</td>\n",
       "      <td>0.0</td>\n",
       "    </tr>\n",
       "    <tr>\n",
       "      <th>...</th>\n",
       "      <td>...</td>\n",
       "      <td>...</td>\n",
       "      <td>...</td>\n",
       "      <td>...</td>\n",
       "      <td>...</td>\n",
       "    </tr>\n",
       "    <tr>\n",
       "      <th>145</th>\n",
       "      <td>6.7</td>\n",
       "      <td>3.0</td>\n",
       "      <td>5.2</td>\n",
       "      <td>2.3</td>\n",
       "      <td>2.0</td>\n",
       "    </tr>\n",
       "    <tr>\n",
       "      <th>146</th>\n",
       "      <td>6.3</td>\n",
       "      <td>2.5</td>\n",
       "      <td>5.0</td>\n",
       "      <td>1.9</td>\n",
       "      <td>2.0</td>\n",
       "    </tr>\n",
       "    <tr>\n",
       "      <th>147</th>\n",
       "      <td>6.5</td>\n",
       "      <td>3.0</td>\n",
       "      <td>5.2</td>\n",
       "      <td>2.0</td>\n",
       "      <td>2.0</td>\n",
       "    </tr>\n",
       "    <tr>\n",
       "      <th>148</th>\n",
       "      <td>6.2</td>\n",
       "      <td>3.4</td>\n",
       "      <td>5.4</td>\n",
       "      <td>2.3</td>\n",
       "      <td>2.0</td>\n",
       "    </tr>\n",
       "    <tr>\n",
       "      <th>149</th>\n",
       "      <td>5.9</td>\n",
       "      <td>3.0</td>\n",
       "      <td>5.1</td>\n",
       "      <td>1.8</td>\n",
       "      <td>2.0</td>\n",
       "    </tr>\n",
       "  </tbody>\n",
       "</table>\n",
       "<p>150 rows × 5 columns</p>\n",
       "</div>"
      ]
     },
     "execution_count": 8,
     "metadata": {},
     "output_type": "execute_result"
    }
   ],
   "execution_count": 8
  },
  {
   "metadata": {
    "ExecuteTime": {
     "end_time": "2024-08-24T17:55:26.522904Z",
     "start_time": "2024-08-24T17:55:26.520308Z"
    }
   },
   "cell_type": "code",
   "source": [
    "# Train Test Split! Set X, y\n",
    "# X is the input data (features of flowers)\n",
    "# y is the output data (flower type)\n",
    "X = my_df.drop('variety', axis=1)  # Gets rid of variety column\n",
    "y = my_df['variety']  # Grabs only the variety column"
   ],
   "id": "a0dd14ebfc87fd",
   "outputs": [],
   "execution_count": 9
  },
  {
   "metadata": {
    "ExecuteTime": {
     "end_time": "2024-08-24T17:55:26.525670Z",
     "start_time": "2024-08-24T17:55:26.523420Z"
    }
   },
   "cell_type": "code",
   "source": [
    "# Convert these to numpy array\n",
    "X = X.values\n",
    "y = y.values"
   ],
   "id": "d5c7840cc8e0d3a3",
   "outputs": [],
   "execution_count": 10
  },
  {
   "metadata": {
    "ExecuteTime": {
     "end_time": "2024-08-24T17:55:28.519034Z",
     "start_time": "2024-08-24T17:55:26.525670Z"
    }
   },
   "cell_type": "code",
   "source": "from sklearn.model_selection import train_test_split",
   "id": "6900788a97ff6f98",
   "outputs": [],
   "execution_count": 11
  },
  {
   "metadata": {
    "ExecuteTime": {
     "end_time": "2024-08-24T17:55:28.522743Z",
     "start_time": "2024-08-24T17:55:28.519548Z"
    }
   },
   "cell_type": "code",
   "source": [
    "# Train test split\n",
    "X_train, X_test, y_train, y_test = train_test_split(X, y, test_size=0.2, random_state=41)"
   ],
   "id": "d42c04e6b14956d2",
   "outputs": [],
   "execution_count": 12
  },
  {
   "metadata": {
    "ExecuteTime": {
     "end_time": "2024-08-24T17:55:28.526275Z",
     "start_time": "2024-08-24T17:55:28.522743Z"
    }
   },
   "cell_type": "code",
   "source": [
    "# Convert features (X) and labels (y) to tensors\n",
    "X_train = torch.FloatTensor(X_train)\n",
    "X_test = torch.FloatTensor(X_test)\n",
    "y_train = torch.LongTensor(y_train)\n",
    "y_test = torch.LongTensor(y_test)"
   ],
   "id": "9d28eeeb34e5da33",
   "outputs": [],
   "execution_count": 13
  },
  {
   "metadata": {
    "ExecuteTime": {
     "end_time": "2024-08-24T17:55:29.290765Z",
     "start_time": "2024-08-24T17:55:28.527309Z"
    }
   },
   "cell_type": "code",
   "source": [
    "# Set the criterion of model to measure the error, how far off are the predictions from reality\n",
    "criterion = nn.CrossEntropyLoss()\n",
    "# Optimizer - sends stuff through and through and through and it optimizes. We'll use Adam Optimizer\n",
    "# if error does not go down after a bunch of iterations (epochs) we'll lower the  learning rate\n",
    "optimizer = torch.optim.Adam(model.parameters(), lr=0.01)\n",
    "\n"
   ],
   "id": "edd63357f9f0157d",
   "outputs": [],
   "execution_count": 14
  },
  {
   "metadata": {
    "ExecuteTime": {
     "end_time": "2024-08-24T17:55:29.294274Z",
     "start_time": "2024-08-24T17:55:29.290765Z"
    }
   },
   "cell_type": "code",
   "source": [
    "model.parameters\n",
    "# we have 3 model parameters (layer one, layer two and output layer)\n",
    "# epoch is sending all data through that once\n",
    "# we optimize everytime we go through"
   ],
   "id": "b4b7504fe5c853d3",
   "outputs": [
    {
     "data": {
      "text/plain": [
       "<bound method Module.parameters of Model(\n",
       "  (fc1): Linear(in_features=4, out_features=8, bias=True)\n",
       "  (fc2): Linear(in_features=8, out_features=9, bias=True)\n",
       "  (out): Linear(in_features=9, out_features=3, bias=True)\n",
       ")>"
      ]
     },
     "execution_count": 15,
     "metadata": {},
     "output_type": "execute_result"
    }
   ],
   "execution_count": 15
  },
  {
   "metadata": {
    "ExecuteTime": {
     "end_time": "2024-08-24T17:55:29.382208Z",
     "start_time": "2024-08-24T17:55:29.294274Z"
    }
   },
   "cell_type": "code",
   "source": [
    "# Train model!!!!!!!!\n",
    "# Epochs? (one run thru all the training data in network)\n",
    "epochs = 100\n",
    "losses = []\n",
    "for epoch in range(epochs):\n",
    "    # Go forward and get a prediction (type of flower)\n",
    "    y_pred = model.forward(X_train) # Get predicted results. (We use X_train which contains the 4 features of flower)\n",
    "    \n",
    "    # Measure loss\n",
    "    loss_tensor = criterion(y_pred, y_train)  # Predicted value vs actual value\n",
    "    loss_arr = loss_tensor.detach().numpy()\n",
    "    losses.append(loss_arr)\n",
    "    \n",
    "    if epoch % 10 == 0:\n",
    "        print('Epoch {}/{}, Loss: {:.4f}'.format(epoch + 1, epochs, loss_arr))\n",
    "    \n",
    "    # Back propagation: take error rate of forward propagation and feed it back through the network to fine tune weights\n",
    "    optimizer.zero_grad()\n",
    "    loss_tensor.backward()\n",
    "    optimizer.step()"
   ],
   "id": "b83b62299e723eed",
   "outputs": [
    {
     "name": "stdout",
     "output_type": "stream",
     "text": [
      "Epoch 1/100, Loss: 1.1252\n",
      "Epoch 11/100, Loss: 1.0097\n",
      "Epoch 21/100, Loss: 0.8162\n",
      "Epoch 31/100, Loss: 0.5860\n",
      "Epoch 41/100, Loss: 0.4003\n",
      "Epoch 51/100, Loss: 0.2679\n",
      "Epoch 61/100, Loss: 0.1796\n",
      "Epoch 71/100, Loss: 0.1217\n",
      "Epoch 81/100, Loss: 0.0861\n",
      "Epoch 91/100, Loss: 0.0652\n"
     ]
    }
   ],
   "execution_count": 16
  },
  {
   "metadata": {
    "ExecuteTime": {
     "end_time": "2024-08-24T17:55:29.480737Z",
     "start_time": "2024-08-24T17:55:29.382208Z"
    }
   },
   "cell_type": "code",
   "source": [
    "# Graph it out\n",
    "plt.plot(range(epochs), losses)\n",
    "plt.ylabel(\"loss/error\")\n",
    "plt.xlabel(\"epoch\")"
   ],
   "id": "8475dc0be1172c69",
   "outputs": [
    {
     "data": {
      "text/plain": [
       "Text(0.5, 0, 'epoch')"
      ]
     },
     "execution_count": 17,
     "metadata": {},
     "output_type": "execute_result"
    },
    {
     "data": {
      "text/plain": [
       "<Figure size 640x480 with 1 Axes>"
      ],
      "image/png": "[encoded data removed]"
     },
     "metadata": {},
     "output_type": "display_data"
    }
   ],
   "execution_count": 17
  },
  {
   "metadata": {},
   "cell_type": "markdown",
   "source": "# Evaluate Test Data Set on network",
   "id": "19549f4847e0a715"
  },
  {
   "metadata": {
    "ExecuteTime": {
     "end_time": "2024-08-24T17:55:29.484846Z",
     "start_time": "2024-08-24T17:55:29.481788Z"
    }
   },
   "cell_type": "code",
   "source": [
    "# Evaluate Model on Test Data Set (validate model on test set)\n",
    "with torch.no_grad():  # Turn off back propagation\n",
    "    y_eval = model.forward(X_test)  # X_test are features from out test set, y_eval will be predictions\n",
    "    loss = criterion(y_eval, y_test)"
   ],
   "id": "898421b66c6552c5",
   "outputs": [],
   "execution_count": 18
  },
  {
   "metadata": {
    "ExecuteTime": {
     "end_time": "2024-08-24T17:55:29.488757Z",
     "start_time": "2024-08-24T17:55:29.484846Z"
    }
   },
   "cell_type": "code",
   "source": "loss",
   "id": "b0cb09779ff8ffe",
   "outputs": [
    {
     "data": {
      "text/plain": [
       "tensor(0.1315)"
      ]
     },
     "execution_count": 19,
     "metadata": {},
     "output_type": "execute_result"
    }
   ],
   "execution_count": 19
  },
  {
   "metadata": {
    "ExecuteTime": {
     "end_time": "2024-08-24T17:55:29.499426Z",
     "start_time": "2024-08-24T17:55:29.488757Z"
    }
   },
   "cell_type": "code",
   "source": [
    "correct = 0\n",
    "with torch.no_grad():\n",
    "    for i, data in enumerate(X_test):\n",
    "        y_val = model.forward(data)\n",
    "        \n",
    "        # Will tell us what type of flower class out network think it is\n",
    "        print(f\"{i+1}.) {str(y_val)} \\t {y_test[i]} \\t  {y_val.argmax().item()}\")\n",
    "        \n",
    "        # Correct or not\n",
    "        #  Our prediction        == actual thing?\n",
    "        if y_val.argmax().item() == y_test[i]:\n",
    "            correct += 1\n",
    "            \n",
    "print(f\"We got {correct} correct\")\n",
    "            "
   ],
   "id": "efea2112d8f5d608",
   "outputs": [
    {
     "name": "stdout",
     "output_type": "stream",
     "text": [
      "1.) tensor([-5.8771,  4.4629,  6.5155]) \t 2 \t  2\n",
      "2.) tensor([-7.5451,  4.1668,  9.7293]) \t 2 \t  2\n",
      "3.) tensor([-8.4517,  5.1275, 10.2015]) \t 2 \t  2\n",
      "4.) tensor([-4.3411,  5.6280,  2.5636]) \t 1 \t  1\n",
      "5.) tensor([-7.1838,  4.8757,  8.3023]) \t 2 \t  2\n",
      "6.) tensor([-3.3940,  5.3421,  1.2802]) \t 1 \t  1\n",
      "7.) tensor([-5.9240,  4.9826,  6.0025]) \t 2 \t  2\n",
      "8.) tensor([-4.2895,  5.7016,  2.3920]) \t 1 \t  1\n",
      "9.) tensor([-6.5369,  4.9261,  7.1291]) \t 2 \t  2\n",
      "10.) tensor([-8.0526,  4.4129, 10.3325]) \t 2 \t  2\n",
      "11.) tensor([-5.6775,  4.9505,  5.6248]) \t 2 \t  2\n",
      "12.) tensor([ 4.5748, -2.2579, -2.8925]) \t 0 \t  0\n",
      "13.) tensor([ 4.2646, -2.0055, -2.7342]) \t 0 \t  0\n",
      "14.) tensor([-2.1081,  4.0482,  0.5803]) \t 1 \t  1\n",
      "15.) tensor([ 3.4608, -1.2147, -2.3488]) \t 0 \t  0\n",
      "16.) tensor([-5.4739,  5.1174,  5.0966]) \t 2 \t  1\n",
      "17.) tensor([ 4.0637, -1.8045, -2.6504]) \t 0 \t  0\n",
      "18.) tensor([-5.8090,  4.6057,  6.2494]) \t 1 \t  2\n",
      "19.) tensor([ 4.9250, -2.5763, -3.0545]) \t 0 \t  0\n",
      "20.) tensor([ 3.4559, -1.2559, -2.3637]) \t 0 \t  0\n",
      "21.) tensor([-2.6161,  4.5584,  0.8575]) \t 1 \t  1\n",
      "22.) tensor([-7.7427,  4.7379,  9.4233]) \t 2 \t  2\n",
      "23.) tensor([ 3.5777, -1.3269, -2.4109]) \t 0 \t  0\n",
      "24.) tensor([ 4.5445, -2.2478, -2.8698]) \t 0 \t  0\n",
      "25.) tensor([-2.6548,  4.6138,  0.8825]) \t 1 \t  1\n",
      "26.) tensor([-3.2832,  5.2189,  1.2163]) \t 1 \t  1\n",
      "27.) tensor([-4.6527,  5.7790,  2.9302]) \t 1 \t  1\n",
      "28.) tensor([-2.9436,  4.8858,  1.0381]) \t 1 \t  1\n",
      "29.) tensor([ 4.5932, -2.2788, -2.8989]) \t 0 \t  0\n",
      "30.) tensor([-4.5797,  5.4566,  3.1690]) \t 1 \t  1\n",
      "We got 28 correct\n"
     ]
    }
   ],
   "execution_count": 20
  },
  {
   "metadata": {
    "ExecuteTime": {
     "end_time": "2024-08-24T17:55:29.520148Z",
     "start_time": "2024-08-24T17:55:29.499426Z"
    }
   },
   "cell_type": "code",
   "source": [
    "# Based on random state we can get closer\n",
    "torch.manual_seed(32)\n",
    "X_train, X_test, y_train, y_test = train_test_split(X, y, test_size=0.2, random_state=32)"
   ],
   "id": "5dcd6162d8c3509e",
   "outputs": [],
   "execution_count": 21
  },
  {
   "metadata": {},
   "cell_type": "markdown",
   "source": "# Evaluate NEW Data On The Network",
   "id": "cb0d1b59f4c4622b"
  },
  {
   "metadata": {
    "ExecuteTime": {
     "end_time": "2024-08-24T17:55:29.522722Z",
     "start_time": "2024-08-24T17:55:29.520658Z"
    }
   },
   "cell_type": "code",
   "source": "new_iris = torch.tensor([4.7, 3.2, 1.3, 0.2])",
   "id": "35900c896ba838c3",
   "outputs": [],
   "execution_count": 22
  },
  {
   "metadata": {
    "ExecuteTime": {
     "end_time": "2024-08-24T17:55:29.526240Z",
     "start_time": "2024-08-24T17:55:29.522722Z"
    }
   },
   "cell_type": "code",
   "source": [
    "with torch.no_grad():\n",
    "    print(model(new_iris))"
   ],
   "id": "cbb77f7278a849ab",
   "outputs": [
    {
     "name": "stdout",
     "output_type": "stream",
     "text": [
      "tensor([ 4.5445, -2.2478, -2.8698])\n"
     ]
    }
   ],
   "execution_count": 23
  },
  {
   "metadata": {
    "ExecuteTime": {
     "end_time": "2024-08-24T17:55:29.528809Z",
     "start_time": "2024-08-24T17:55:29.526763Z"
    }
   },
   "cell_type": "code",
   "source": "newer_iris = torch.tensor([5.9, 3.0, 5.1, 1.8])",
   "id": "25c8b76f8ae52ec5",
   "outputs": [],
   "execution_count": 24
  },
  {
   "metadata": {
    "ExecuteTime": {
     "end_time": "2024-08-24T17:55:29.531929Z",
     "start_time": "2024-08-24T17:55:29.529329Z"
    }
   },
   "cell_type": "code",
   "source": [
    "with torch.no_grad():\n",
    "    print(model(newer_iris))"
   ],
   "id": "7fe4ed080617b90c",
   "outputs": [
    {
     "name": "stdout",
     "output_type": "stream",
     "text": [
      "tensor([-5.9960,  4.5080,  6.6831])\n"
     ]
    }
   ],
   "execution_count": 25
  },
  {
   "metadata": {},
   "cell_type": "markdown",
   "source": "# Save and Load model",
   "id": "59a5bbe65804434d"
  },
  {
   "metadata": {
    "ExecuteTime": {
     "end_time": "2024-08-24T17:55:29.535460Z",
     "start_time": "2024-08-24T17:55:29.532570Z"
    }
   },
   "cell_type": "code",
   "source": [
    "# Save our NN model\n",
    "torch.save(model.state_dict(), 'BasicNeuralNetwork.pt')"
   ],
   "id": "f8597fa43f952eb4",
   "outputs": [],
   "execution_count": 26
  },
  {
   "metadata": {
    "ExecuteTime": {
     "end_time": "2024-08-24T17:55:29.540386Z",
     "start_time": "2024-08-24T17:55:29.535460Z"
    }
   },
   "cell_type": "code",
   "source": [
    "# Load saved model\n",
    "new_model = Model()\n",
    "new_model.load_state_dict(torch.load('BasicNeuralNetwork.pt'))"
   ],
   "id": "33c07e26bbe49c4a",
   "outputs": [
    {
     "data": {
      "text/plain": [
       "<All keys matched successfully>"
      ]
     },
     "execution_count": 27,
     "metadata": {},
     "output_type": "execute_result"
    }
   ],
   "execution_count": 27
  },
  {
   "metadata": {
    "ExecuteTime": {
     "end_time": "2024-08-24T17:55:29.543895Z",
     "start_time": "2024-08-24T17:55:29.540386Z"
    }
   },
   "cell_type": "code",
   "source": [
    "# Make sure it loaded correctly\n",
    "new_model.eval()"
   ],
   "id": "66ed5e7b45f25098",
   "outputs": [
    {
     "data": {
      "text/plain": [
       "Model(\n",
       "  (fc1): Linear(in_features=4, out_features=8, bias=True)\n",
       "  (fc2): Linear(in_features=8, out_features=9, bias=True)\n",
       "  (out): Linear(in_features=9, out_features=3, bias=True)\n",
       ")"
      ]
     },
     "execution_count": 28,
     "metadata": {},
     "output_type": "execute_result"
    }
   ],
   "execution_count": 28
  }
 ],
 "metadata": {
  "kernelspec": {
   "display_name": "Python 3",
   "language": "python",
   "name": "python3"
  },
  "language_info": {
   "codemirror_mode": {
    "name": "ipython",
    "version": 2
   },
   "file_extension": ".py",
   "mimetype": "text/x-python",
   "name": "python",
   "nbconvert_exporter": "python",
   "pygments_lexer": "ipython2",
   "version": "2.7.6"
  }
 },
 "nbformat": 4,
 "nbformat_minor": 5
}
